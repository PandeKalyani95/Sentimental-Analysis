{
 "cells": [
  {
   "cell_type": "markdown",
   "metadata": {},
   "source": [
    "# **Sentimental Analysis of News headlines**\n"
   ]
  },
  {
   "cell_type": "markdown",
   "metadata": {},
   "source": [
    "## Load dataset"
   ]
  },
  {
   "cell_type": "code",
   "execution_count": 3,
   "metadata": {},
   "outputs": [],
   "source": [
    "import pandas as pd\n",
    "import numpy as np\n",
    "import matplotlib.pyplot as plt\n",
    "from textblob import TextBlob"
   ]
  },
  {
   "cell_type": "code",
   "execution_count": 3,
   "metadata": {},
   "outputs": [],
   "source": [
    "# pip install TextBlob"
   ]
  },
  {
   "cell_type": "code",
   "execution_count": 4,
   "metadata": {},
   "outputs": [
    {
     "data": {
      "text/html": [
       "<div>\n",
       "<style scoped>\n",
       "    .dataframe tbody tr th:only-of-type {\n",
       "        vertical-align: middle;\n",
       "    }\n",
       "\n",
       "    .dataframe tbody tr th {\n",
       "        vertical-align: top;\n",
       "    }\n",
       "\n",
       "    .dataframe thead th {\n",
       "        text-align: right;\n",
       "    }\n",
       "</style>\n",
       "<table border=\"1\" class=\"dataframe\">\n",
       "  <thead>\n",
       "    <tr style=\"text-align: right;\">\n",
       "      <th></th>\n",
       "      <th>publish_date</th>\n",
       "      <th>headline_category</th>\n",
       "      <th>headline_text</th>\n",
       "    </tr>\n",
       "  </thead>\n",
       "  <tbody>\n",
       "    <tr>\n",
       "      <th>0</th>\n",
       "      <td>20010101</td>\n",
       "      <td>sports.wwe</td>\n",
       "      <td>win over cena satisfying but defeating underta...</td>\n",
       "    </tr>\n",
       "    <tr>\n",
       "      <th>1</th>\n",
       "      <td>20010102</td>\n",
       "      <td>unknown</td>\n",
       "      <td>Status quo will not be disturbed at Ayodhya; s...</td>\n",
       "    </tr>\n",
       "    <tr>\n",
       "      <th>2</th>\n",
       "      <td>20010102</td>\n",
       "      <td>unknown</td>\n",
       "      <td>Fissures in Hurriyat over Pak visit</td>\n",
       "    </tr>\n",
       "    <tr>\n",
       "      <th>3</th>\n",
       "      <td>20010102</td>\n",
       "      <td>unknown</td>\n",
       "      <td>America's unwanted heading for India?</td>\n",
       "    </tr>\n",
       "    <tr>\n",
       "      <th>4</th>\n",
       "      <td>20010102</td>\n",
       "      <td>unknown</td>\n",
       "      <td>For bigwigs; it is destination Goa</td>\n",
       "    </tr>\n",
       "  </tbody>\n",
       "</table>\n",
       "</div>"
      ],
      "text/plain": [
       "   publish_date headline_category  \\\n",
       "0      20010101        sports.wwe   \n",
       "1      20010102           unknown   \n",
       "2      20010102           unknown   \n",
       "3      20010102           unknown   \n",
       "4      20010102           unknown   \n",
       "\n",
       "                                       headline_text  \n",
       "0  win over cena satisfying but defeating underta...  \n",
       "1  Status quo will not be disturbed at Ayodhya; s...  \n",
       "2                Fissures in Hurriyat over Pak visit  \n",
       "3              America's unwanted heading for India?  \n",
       "4                 For bigwigs; it is destination Goa  "
      ]
     },
     "execution_count": 4,
     "metadata": {},
     "output_type": "execute_result"
    }
   ],
   "source": [
    "data = pd.read_csv('india-news-headlines.csv')\n",
    "data.head()"
   ]
  },
  {
   "cell_type": "markdown",
   "metadata": {},
   "source": [
    "- As we can see in `headline_category` column there are some cities name, let's separate this cities name"
   ]
  },
  {
   "cell_type": "code",
   "execution_count": 5,
   "metadata": {},
   "outputs": [
    {
     "data": {
      "text/plain": [
       "india                      285619\n",
       "unknown                    207732\n",
       "city.mumbai                132649\n",
       "city.delhi                 124658\n",
       "business.india-business    115246\n",
       "                            ...  \n",
       "actresses                       7\n",
       "sports.headline3                7\n",
       "did-you-know                    6\n",
       "sports.headline6                3\n",
       "party-manifestos                2\n",
       "Name: headline_category, Length: 1016, dtype: int64"
      ]
     },
     "execution_count": 5,
     "metadata": {},
     "output_type": "execute_result"
    }
   ],
   "source": [
    "data['headline_category'].value_counts()   "
   ]
  },
  {
   "cell_type": "markdown",
   "metadata": {},
   "source": [
    "- only take that data that contain 'city' word and store that data in new dataframe 'city_data'"
   ]
  },
  {
   "cell_type": "code",
   "execution_count": 6,
   "metadata": {},
   "outputs": [],
   "source": [
    "city_data = data[data['headline_category'].str.contains('^city\\.[a-z]+$', regex=True)]"
   ]
  },
  {
   "cell_type": "code",
   "execution_count": 7,
   "metadata": {},
   "outputs": [
    {
     "data": {
      "text/html": [
       "<div>\n",
       "<style scoped>\n",
       "    .dataframe tbody tr th:only-of-type {\n",
       "        vertical-align: middle;\n",
       "    }\n",
       "\n",
       "    .dataframe tbody tr th {\n",
       "        vertical-align: top;\n",
       "    }\n",
       "\n",
       "    .dataframe thead th {\n",
       "        text-align: right;\n",
       "    }\n",
       "</style>\n",
       "<table border=\"1\" class=\"dataframe\">\n",
       "  <thead>\n",
       "    <tr style=\"text-align: right;\">\n",
       "      <th></th>\n",
       "      <th>publish_date</th>\n",
       "      <th>headline_category</th>\n",
       "      <th>headline_text</th>\n",
       "    </tr>\n",
       "  </thead>\n",
       "  <tbody>\n",
       "    <tr>\n",
       "      <th>274</th>\n",
       "      <td>20010104</td>\n",
       "      <td>city.bengaluru</td>\n",
       "      <td>Three in race for chief secy's post</td>\n",
       "    </tr>\n",
       "    <tr>\n",
       "      <th>275</th>\n",
       "      <td>20010104</td>\n",
       "      <td>city.patna</td>\n",
       "      <td>Druggists' stir leads to shortage of medicines</td>\n",
       "    </tr>\n",
       "    <tr>\n",
       "      <th>278</th>\n",
       "      <td>20010104</td>\n",
       "      <td>city.bengaluru</td>\n",
       "      <td>He's not so inscrutable</td>\n",
       "    </tr>\n",
       "    <tr>\n",
       "      <th>279</th>\n",
       "      <td>20010104</td>\n",
       "      <td>city.delhi</td>\n",
       "      <td>DPCC stages Nyay rally</td>\n",
       "    </tr>\n",
       "    <tr>\n",
       "      <th>643</th>\n",
       "      <td>20010110</td>\n",
       "      <td>city.patna</td>\n",
       "      <td>Fend for yourselves; Pande tells doctors</td>\n",
       "    </tr>\n",
       "    <tr>\n",
       "      <th>...</th>\n",
       "      <td>...</td>\n",
       "      <td>...</td>\n",
       "      <td>...</td>\n",
       "    </tr>\n",
       "    <tr>\n",
       "      <th>3297139</th>\n",
       "      <td>20200630</td>\n",
       "      <td>city.delhi</td>\n",
       "      <td>Remove illegal signage or face penalty: NDMC</td>\n",
       "    </tr>\n",
       "    <tr>\n",
       "      <th>3297158</th>\n",
       "      <td>20200630</td>\n",
       "      <td>city.bengaluru</td>\n",
       "      <td>what bengaluru can do to tackle covid surge</td>\n",
       "    </tr>\n",
       "    <tr>\n",
       "      <th>3297161</th>\n",
       "      <td>20200630</td>\n",
       "      <td>city.bengaluru</td>\n",
       "      <td>karnataka may adopt keralas triple lockdown plan</td>\n",
       "    </tr>\n",
       "    <tr>\n",
       "      <th>3297162</th>\n",
       "      <td>20200630</td>\n",
       "      <td>city.kanpur</td>\n",
       "      <td>vehicle of up stf team bringing gangster vikas...</td>\n",
       "    </tr>\n",
       "    <tr>\n",
       "      <th>3297166</th>\n",
       "      <td>20200630</td>\n",
       "      <td>city.lucknow</td>\n",
       "      <td>up govt imposes weekend restrictions from tonight</td>\n",
       "    </tr>\n",
       "  </tbody>\n",
       "</table>\n",
       "<p>1842288 rows × 3 columns</p>\n",
       "</div>"
      ],
      "text/plain": [
       "         publish_date headline_category  \\\n",
       "274          20010104    city.bengaluru   \n",
       "275          20010104        city.patna   \n",
       "278          20010104    city.bengaluru   \n",
       "279          20010104        city.delhi   \n",
       "643          20010110        city.patna   \n",
       "...               ...               ...   \n",
       "3297139      20200630        city.delhi   \n",
       "3297158      20200630    city.bengaluru   \n",
       "3297161      20200630    city.bengaluru   \n",
       "3297162      20200630       city.kanpur   \n",
       "3297166      20200630      city.lucknow   \n",
       "\n",
       "                                             headline_text  \n",
       "274                    Three in race for chief secy's post  \n",
       "275         Druggists' stir leads to shortage of medicines  \n",
       "278                                He's not so inscrutable  \n",
       "279                                 DPCC stages Nyay rally  \n",
       "643               Fend for yourselves; Pande tells doctors  \n",
       "...                                                    ...  \n",
       "3297139       Remove illegal signage or face penalty: NDMC  \n",
       "3297158        what bengaluru can do to tackle covid surge  \n",
       "3297161   karnataka may adopt keralas triple lockdown plan  \n",
       "3297162  vehicle of up stf team bringing gangster vikas...  \n",
       "3297166  up govt imposes weekend restrictions from tonight  \n",
       "\n",
       "[1842288 rows x 3 columns]"
      ]
     },
     "execution_count": 7,
     "metadata": {},
     "output_type": "execute_result"
    }
   ],
   "source": [
    "# takes only that headline_category which contain `city word`\n",
    "city_data"
   ]
  },
  {
   "cell_type": "markdown",
   "metadata": {},
   "source": [
    "- create a new temparory dataframet which have only one column `city_name` "
   ]
  },
  {
   "cell_type": "code",
   "execution_count": 8,
   "metadata": {},
   "outputs": [],
   "source": [
    "city_split = pd.DataFrame(columns=['city_name'])"
   ]
  },
  {
   "cell_type": "markdown",
   "metadata": {},
   "source": [
    "- split city word and name of city which join by '.' we need only cities name and stored it in to 'city_name' column"
   ]
  },
  {
   "cell_type": "code",
   "execution_count": 9,
   "metadata": {},
   "outputs": [],
   "source": [
    "city_split['city_name'] = city_data.headline_category.str.split('.',expand=True)[1]"
   ]
  },
  {
   "cell_type": "code",
   "execution_count": 10,
   "metadata": {},
   "outputs": [],
   "source": [
    "# concate the data set city_data and city_split\n",
    "city_data = pd.concat([city_data,city_split],axis=1)"
   ]
  },
  {
   "cell_type": "code",
   "execution_count": 11,
   "metadata": {},
   "outputs": [],
   "source": [
    "# removing unnecessary column from dataset\n",
    "city_data.drop(columns=['headline_category'],axis=1, inplace=True)"
   ]
  },
  {
   "cell_type": "code",
   "execution_count": 12,
   "metadata": {},
   "outputs": [],
   "source": [
    "# re-setting the index\n",
    "city_data.reset_index(inplace=True)"
   ]
  },
  {
   "cell_type": "code",
   "execution_count": 13,
   "metadata": {},
   "outputs": [
    {
     "data": {
      "text/html": [
       "<div>\n",
       "<style scoped>\n",
       "    .dataframe tbody tr th:only-of-type {\n",
       "        vertical-align: middle;\n",
       "    }\n",
       "\n",
       "    .dataframe tbody tr th {\n",
       "        vertical-align: top;\n",
       "    }\n",
       "\n",
       "    .dataframe thead th {\n",
       "        text-align: right;\n",
       "    }\n",
       "</style>\n",
       "<table border=\"1\" class=\"dataframe\">\n",
       "  <thead>\n",
       "    <tr style=\"text-align: right;\">\n",
       "      <th></th>\n",
       "      <th>index</th>\n",
       "      <th>publish_date</th>\n",
       "      <th>headline_text</th>\n",
       "      <th>city_name</th>\n",
       "    </tr>\n",
       "  </thead>\n",
       "  <tbody>\n",
       "    <tr>\n",
       "      <th>0</th>\n",
       "      <td>274</td>\n",
       "      <td>20010104</td>\n",
       "      <td>Three in race for chief secy's post</td>\n",
       "      <td>bengaluru</td>\n",
       "    </tr>\n",
       "    <tr>\n",
       "      <th>1</th>\n",
       "      <td>275</td>\n",
       "      <td>20010104</td>\n",
       "      <td>Druggists' stir leads to shortage of medicines</td>\n",
       "      <td>patna</td>\n",
       "    </tr>\n",
       "    <tr>\n",
       "      <th>2</th>\n",
       "      <td>278</td>\n",
       "      <td>20010104</td>\n",
       "      <td>He's not so inscrutable</td>\n",
       "      <td>bengaluru</td>\n",
       "    </tr>\n",
       "    <tr>\n",
       "      <th>3</th>\n",
       "      <td>279</td>\n",
       "      <td>20010104</td>\n",
       "      <td>DPCC stages Nyay rally</td>\n",
       "      <td>delhi</td>\n",
       "    </tr>\n",
       "    <tr>\n",
       "      <th>4</th>\n",
       "      <td>643</td>\n",
       "      <td>20010110</td>\n",
       "      <td>Fend for yourselves; Pande tells doctors</td>\n",
       "      <td>patna</td>\n",
       "    </tr>\n",
       "  </tbody>\n",
       "</table>\n",
       "</div>"
      ],
      "text/plain": [
       "   index  publish_date                                   headline_text  \\\n",
       "0    274      20010104             Three in race for chief secy's post   \n",
       "1    275      20010104  Druggists' stir leads to shortage of medicines   \n",
       "2    278      20010104                         He's not so inscrutable   \n",
       "3    279      20010104                          DPCC stages Nyay rally   \n",
       "4    643      20010110        Fend for yourselves; Pande tells doctors   \n",
       "\n",
       "   city_name  \n",
       "0  bengaluru  \n",
       "1      patna  \n",
       "2  bengaluru  \n",
       "3      delhi  \n",
       "4      patna  "
      ]
     },
     "execution_count": 13,
     "metadata": {},
     "output_type": "execute_result"
    }
   ],
   "source": [
    "# see the final data which contain city_name column\n",
    "city_data.head()"
   ]
  },
  {
   "cell_type": "code",
   "execution_count": 14,
   "metadata": {},
   "outputs": [
    {
     "data": {
      "text/plain": [
       "array(['bengaluru', 'patna', 'delhi', 'ahmedabad', 'thiruvananthapuram',\n",
       "       'pune', 'mumbai', 'chandigarh', 'lucknow', 'kolkata', 'hyderabad',\n",
       "       'chennai', 'bareilly', 'aurangabad', 'nagpur', 'bhopal',\n",
       "       'vadodara', 'jaipur', 'goa', 'thane', 'hubballi', 'mangaluru',\n",
       "       'mysuru', 'rajkot', 'surat', 'kanpur', 'varanasi', 'allahabad',\n",
       "       'ludhiana', 'guwahati', 'bhubaneswar', 'ranchi', 'gurgaon',\n",
       "       'coimbatore', 'noida', 'madurai', 'indore', 'kochi', 'kozhikode',\n",
       "       'nashik', 'raipur', 'visakhapatnam', 'kolhapur', 'navimumbai',\n",
       "       'trichy', 'puducherry', 'dehradun', 'meerut', 'agra', 'vijayawada',\n",
       "       'jamshedpur', 'imphal', 'shillong', 'amritsar', 'shimla',\n",
       "       'cuttack', 'jind', 'agartala', 'jammu', 'faridabad', 'srinagar',\n",
       "       'salem', 'rajahmundry', 'erode', 'ghaziabad', 'itanagar', 'ajmer',\n",
       "       'kohima', 'gaya', 'jodhpur', 'udaipur', 'amaravati'], dtype=object)"
      ]
     },
     "execution_count": 14,
     "metadata": {},
     "output_type": "execute_result"
    }
   ],
   "source": [
    "# there are so many cities which we can see\n",
    "city_data.city_name.unique()"
   ]
  },
  {
   "cell_type": "code",
   "execution_count": 15,
   "metadata": {},
   "outputs": [],
   "source": [
    "# create a group of cities and let's see which city have, how many no. of headine text\n",
    "city_headline = city_data.groupby(['city_name']).agg({'headline_text':'count'})"
   ]
  },
  {
   "cell_type": "code",
   "execution_count": 16,
   "metadata": {},
   "outputs": [],
   "source": [
    "# for better understanding remane the column\n",
    "city_headline.rename(columns={'headline_text':'No._headline_text'},inplace=True)"
   ]
  },
  {
   "cell_type": "code",
   "execution_count": 17,
   "metadata": {},
   "outputs": [
    {
     "data": {
      "text/html": [
       "<div>\n",
       "<style scoped>\n",
       "    .dataframe tbody tr th:only-of-type {\n",
       "        vertical-align: middle;\n",
       "    }\n",
       "\n",
       "    .dataframe tbody tr th {\n",
       "        vertical-align: top;\n",
       "    }\n",
       "\n",
       "    .dataframe thead th {\n",
       "        text-align: right;\n",
       "    }\n",
       "</style>\n",
       "<table border=\"1\" class=\"dataframe\">\n",
       "  <thead>\n",
       "    <tr style=\"text-align: right;\">\n",
       "      <th></th>\n",
       "      <th>No._headline_text</th>\n",
       "    </tr>\n",
       "    <tr>\n",
       "      <th>city_name</th>\n",
       "      <th></th>\n",
       "    </tr>\n",
       "  </thead>\n",
       "  <tbody>\n",
       "    <tr>\n",
       "      <th>mumbai</th>\n",
       "      <td>132649</td>\n",
       "    </tr>\n",
       "    <tr>\n",
       "      <th>delhi</th>\n",
       "      <td>124658</td>\n",
       "    </tr>\n",
       "    <tr>\n",
       "      <th>chandigarh</th>\n",
       "      <td>107464</td>\n",
       "    </tr>\n",
       "    <tr>\n",
       "      <th>hyderabad</th>\n",
       "      <td>99014</td>\n",
       "    </tr>\n",
       "    <tr>\n",
       "      <th>bengaluru</th>\n",
       "      <td>91857</td>\n",
       "    </tr>\n",
       "    <tr>\n",
       "      <th>ahmedabad</th>\n",
       "      <td>85813</td>\n",
       "    </tr>\n",
       "    <tr>\n",
       "      <th>pune</th>\n",
       "      <td>84620</td>\n",
       "    </tr>\n",
       "    <tr>\n",
       "      <th>lucknow</th>\n",
       "      <td>83591</td>\n",
       "    </tr>\n",
       "    <tr>\n",
       "      <th>kolkata</th>\n",
       "      <td>81298</td>\n",
       "    </tr>\n",
       "    <tr>\n",
       "      <th>nagpur</th>\n",
       "      <td>77300</td>\n",
       "    </tr>\n",
       "    <tr>\n",
       "      <th>goa</th>\n",
       "      <td>76409</td>\n",
       "    </tr>\n",
       "    <tr>\n",
       "      <th>chennai</th>\n",
       "      <td>72264</td>\n",
       "    </tr>\n",
       "    <tr>\n",
       "      <th>patna</th>\n",
       "      <td>70386</td>\n",
       "    </tr>\n",
       "    <tr>\n",
       "      <th>jaipur</th>\n",
       "      <td>53695</td>\n",
       "    </tr>\n",
       "    <tr>\n",
       "      <th>gurgaon</th>\n",
       "      <td>31312</td>\n",
       "    </tr>\n",
       "  </tbody>\n",
       "</table>\n",
       "</div>"
      ],
      "text/plain": [
       "            No._headline_text\n",
       "city_name                    \n",
       "mumbai                 132649\n",
       "delhi                  124658\n",
       "chandigarh             107464\n",
       "hyderabad               99014\n",
       "bengaluru               91857\n",
       "ahmedabad               85813\n",
       "pune                    84620\n",
       "lucknow                 83591\n",
       "kolkata                 81298\n",
       "nagpur                  77300\n",
       "goa                     76409\n",
       "chennai                 72264\n",
       "patna                   70386\n",
       "jaipur                  53695\n",
       "gurgaon                 31312"
      ]
     },
     "execution_count": 17,
     "metadata": {},
     "output_type": "execute_result"
    }
   ],
   "source": [
    "# finding the top 15 cities which have high number of headlines text\n",
    "city_headline = city_headline.sort_values(by='No._headline_text',ascending=False)\n",
    "top_15_headline_city = city_headline.head(15)\n",
    "top_15_headline_city"
   ]
  },
  {
   "cell_type": "code",
   "execution_count": 18,
   "metadata": {},
   "outputs": [
    {
     "data": {
      "image/png": "[encoded data removed]",
      "text/plain": [
       "<Figure size 1440x864 with 1 Axes>"
      ]
     },
     "metadata": {
      "needs_background": "light"
     },
     "output_type": "display_data"
    }
   ],
   "source": [
    "# plotting a graph for better understanding for top 15 cities which have high no. of headline text\n",
    "\n",
    "plt.figure(figsize=(20,12))\n",
    "plt.bar(top_15_headline_city.index,height=top_15_headline_city['No._headline_text'])\n",
    "plt.xticks(rotation = 45)\n",
    "plt.xlabel('City Name')\n",
    "plt.ylabel('Number of recorded articles')\n",
    "plt.title('Number of articles per city')\n",
    "plt.show()"
   ]
  },
  {
   "cell_type": "markdown",
   "metadata": {},
   "source": [
    "Not so surprisingly, **Mumbai and Delhi** lead the list. Following these two cities, the decrease is fairly uniform until the sharp drop in coverage from **patana**."
   ]
  },
  {
   "cell_type": "markdown",
   "metadata": {},
   "source": [
    "### **Let's check `Year-Wise` coverage for cities**"
   ]
  },
  {
   "cell_type": "code",
   "execution_count": 19,
   "metadata": {},
   "outputs": [
    {
     "data": {
      "text/plain": [
       "index             int64\n",
       "publish_date      int64\n",
       "headline_text    object\n",
       "city_name        object\n",
       "dtype: object"
      ]
     },
     "execution_count": 19,
     "metadata": {},
     "output_type": "execute_result"
    }
   ],
   "source": [
    "city_data.dtypes   \n",
    "# publish data have \"int\" datatype we have to change that into \"datetime\""
   ]
  },
  {
   "cell_type": "markdown",
   "metadata": {},
   "source": [
    "**changing datatype from int to datetime**"
   ]
  },
  {
   "cell_type": "code",
   "execution_count": 21,
   "metadata": {},
   "outputs": [
    {
     "data": {
      "text/html": [
       "<div>\n",
       "<style scoped>\n",
       "    .dataframe tbody tr th:only-of-type {\n",
       "        vertical-align: middle;\n",
       "    }\n",
       "\n",
       "    .dataframe tbody tr th {\n",
       "        vertical-align: top;\n",
       "    }\n",
       "\n",
       "    .dataframe thead th {\n",
       "        text-align: right;\n",
       "    }\n",
       "</style>\n",
       "<table border=\"1\" class=\"dataframe\">\n",
       "  <thead>\n",
       "    <tr style=\"text-align: right;\">\n",
       "      <th></th>\n",
       "      <th>index</th>\n",
       "      <th>publish_date</th>\n",
       "      <th>headline_text</th>\n",
       "      <th>city_name</th>\n",
       "    </tr>\n",
       "  </thead>\n",
       "  <tbody>\n",
       "    <tr>\n",
       "      <th>0</th>\n",
       "      <td>274</td>\n",
       "      <td>1970-01-01 00:00:00.020010104</td>\n",
       "      <td>Three in race for chief secy's post</td>\n",
       "      <td>bengaluru</td>\n",
       "    </tr>\n",
       "    <tr>\n",
       "      <th>1</th>\n",
       "      <td>275</td>\n",
       "      <td>1970-01-01 00:00:00.020010104</td>\n",
       "      <td>Druggists' stir leads to shortage of medicines</td>\n",
       "      <td>patna</td>\n",
       "    </tr>\n",
       "    <tr>\n",
       "      <th>2</th>\n",
       "      <td>278</td>\n",
       "      <td>1970-01-01 00:00:00.020010104</td>\n",
       "      <td>He's not so inscrutable</td>\n",
       "      <td>bengaluru</td>\n",
       "    </tr>\n",
       "    <tr>\n",
       "      <th>3</th>\n",
       "      <td>279</td>\n",
       "      <td>1970-01-01 00:00:00.020010104</td>\n",
       "      <td>DPCC stages Nyay rally</td>\n",
       "      <td>delhi</td>\n",
       "    </tr>\n",
       "    <tr>\n",
       "      <th>4</th>\n",
       "      <td>643</td>\n",
       "      <td>1970-01-01 00:00:00.020010110</td>\n",
       "      <td>Fend for yourselves; Pande tells doctors</td>\n",
       "      <td>patna</td>\n",
       "    </tr>\n",
       "  </tbody>\n",
       "</table>\n",
       "</div>"
      ],
      "text/plain": [
       "   index                  publish_date  \\\n",
       "0    274 1970-01-01 00:00:00.020010104   \n",
       "1    275 1970-01-01 00:00:00.020010104   \n",
       "2    278 1970-01-01 00:00:00.020010104   \n",
       "3    279 1970-01-01 00:00:00.020010104   \n",
       "4    643 1970-01-01 00:00:00.020010110   \n",
       "\n",
       "                                    headline_text  city_name  \n",
       "0             Three in race for chief secy's post  bengaluru  \n",
       "1  Druggists' stir leads to shortage of medicines      patna  \n",
       "2                         He's not so inscrutable  bengaluru  \n",
       "3                          DPCC stages Nyay rally      delhi  \n",
       "4        Fend for yourselves; Pande tells doctors      patna  "
      ]
     },
     "execution_count": 21,
     "metadata": {},
     "output_type": "execute_result"
    }
   ],
   "source": [
    "city_data['publish_date'] = pd.to_datetime(city_data['publish_date'])\n",
    "city_data.head()"
   ]
  },
  {
   "cell_type": "markdown",
   "metadata": {},
   "source": [
    "- we are extrating only **years** from `publish_date` column"
   ]
  },
  {
   "cell_type": "code",
   "execution_count": 22,
   "metadata": {},
   "outputs": [],
   "source": [
    "city_data['Year'] = city_data['publish_date'].apply(lambda x: (x.microsecond)//10)"
   ]
  },
  {
   "cell_type": "code",
   "execution_count": 23,
   "metadata": {},
   "outputs": [],
   "source": [
    "# dropping unnecessary columns\n",
    "city_data.drop(columns=['publish_date','index'],axis=1,inplace=True)"
   ]
  },
  {
   "cell_type": "markdown",
   "metadata": {},
   "source": [
    "- final data with year-wise"
   ]
  },
  {
   "cell_type": "code",
   "execution_count": 24,
   "metadata": {},
   "outputs": [
    {
     "data": {
      "text/html": [
       "<div>\n",
       "<style scoped>\n",
       "    .dataframe tbody tr th:only-of-type {\n",
       "        vertical-align: middle;\n",
       "    }\n",
       "\n",
       "    .dataframe tbody tr th {\n",
       "        vertical-align: top;\n",
       "    }\n",
       "\n",
       "    .dataframe thead th {\n",
       "        text-align: right;\n",
       "    }\n",
       "</style>\n",
       "<table border=\"1\" class=\"dataframe\">\n",
       "  <thead>\n",
       "    <tr style=\"text-align: right;\">\n",
       "      <th></th>\n",
       "      <th>headline_text</th>\n",
       "      <th>city_name</th>\n",
       "      <th>Year</th>\n",
       "    </tr>\n",
       "  </thead>\n",
       "  <tbody>\n",
       "    <tr>\n",
       "      <th>0</th>\n",
       "      <td>Three in race for chief secy's post</td>\n",
       "      <td>bengaluru</td>\n",
       "      <td>2001</td>\n",
       "    </tr>\n",
       "    <tr>\n",
       "      <th>1</th>\n",
       "      <td>Druggists' stir leads to shortage of medicines</td>\n",
       "      <td>patna</td>\n",
       "      <td>2001</td>\n",
       "    </tr>\n",
       "    <tr>\n",
       "      <th>2</th>\n",
       "      <td>He's not so inscrutable</td>\n",
       "      <td>bengaluru</td>\n",
       "      <td>2001</td>\n",
       "    </tr>\n",
       "    <tr>\n",
       "      <th>3</th>\n",
       "      <td>DPCC stages Nyay rally</td>\n",
       "      <td>delhi</td>\n",
       "      <td>2001</td>\n",
       "    </tr>\n",
       "    <tr>\n",
       "      <th>4</th>\n",
       "      <td>Fend for yourselves; Pande tells doctors</td>\n",
       "      <td>patna</td>\n",
       "      <td>2001</td>\n",
       "    </tr>\n",
       "  </tbody>\n",
       "</table>\n",
       "</div>"
      ],
      "text/plain": [
       "                                    headline_text  city_name  Year\n",
       "0             Three in race for chief secy's post  bengaluru  2001\n",
       "1  Druggists' stir leads to shortage of medicines      patna  2001\n",
       "2                         He's not so inscrutable  bengaluru  2001\n",
       "3                          DPCC stages Nyay rally      delhi  2001\n",
       "4        Fend for yourselves; Pande tells doctors      patna  2001"
      ]
     },
     "execution_count": 24,
     "metadata": {},
     "output_type": "execute_result"
    }
   ],
   "source": [
    "# final result\n",
    "city_data.head()"
   ]
  },
  {
   "cell_type": "markdown",
   "metadata": {},
   "source": [
    "- Lets consider a new column **`No_headline_text`** which contains value `one`, so we can count No. of text from each city per year\n",
    "- make sure that you should always make copy of original data"
   ]
  },
  {
   "cell_type": "code",
   "execution_count": 26,
   "metadata": {},
   "outputs": [],
   "source": [
    "city_data_2 = city_data.copy()\n",
    "city_data_2['No_headline_text'] = 1"
   ]
  },
  {
   "cell_type": "code",
   "execution_count": 27,
   "metadata": {},
   "outputs": [],
   "source": [
    "# dropping unwanted column\n",
    "city_data_2.drop(columns=['headline_text'],axis=1, inplace=True)"
   ]
  },
  {
   "cell_type": "code",
   "execution_count": 28,
   "metadata": {},
   "outputs": [
    {
     "data": {
      "text/html": [
       "<div>\n",
       "<style scoped>\n",
       "    .dataframe tbody tr th:only-of-type {\n",
       "        vertical-align: middle;\n",
       "    }\n",
       "\n",
       "    .dataframe tbody tr th {\n",
       "        vertical-align: top;\n",
       "    }\n",
       "\n",
       "    .dataframe thead th {\n",
       "        text-align: right;\n",
       "    }\n",
       "</style>\n",
       "<table border=\"1\" class=\"dataframe\">\n",
       "  <thead>\n",
       "    <tr style=\"text-align: right;\">\n",
       "      <th></th>\n",
       "      <th>city_name</th>\n",
       "      <th>Year</th>\n",
       "      <th>No_headline_text</th>\n",
       "    </tr>\n",
       "  </thead>\n",
       "  <tbody>\n",
       "    <tr>\n",
       "      <th>0</th>\n",
       "      <td>bengaluru</td>\n",
       "      <td>2001</td>\n",
       "      <td>1</td>\n",
       "    </tr>\n",
       "    <tr>\n",
       "      <th>1</th>\n",
       "      <td>patna</td>\n",
       "      <td>2001</td>\n",
       "      <td>1</td>\n",
       "    </tr>\n",
       "    <tr>\n",
       "      <th>2</th>\n",
       "      <td>bengaluru</td>\n",
       "      <td>2001</td>\n",
       "      <td>1</td>\n",
       "    </tr>\n",
       "    <tr>\n",
       "      <th>3</th>\n",
       "      <td>delhi</td>\n",
       "      <td>2001</td>\n",
       "      <td>1</td>\n",
       "    </tr>\n",
       "    <tr>\n",
       "      <th>4</th>\n",
       "      <td>patna</td>\n",
       "      <td>2001</td>\n",
       "      <td>1</td>\n",
       "    </tr>\n",
       "  </tbody>\n",
       "</table>\n",
       "</div>"
      ],
      "text/plain": [
       "   city_name  Year  No_headline_text\n",
       "0  bengaluru  2001                 1\n",
       "1      patna  2001                 1\n",
       "2  bengaluru  2001                 1\n",
       "3      delhi  2001                 1\n",
       "4      patna  2001                 1"
      ]
     },
     "execution_count": 28,
     "metadata": {},
     "output_type": "execute_result"
    }
   ],
   "source": [
    "city_data_2.head()"
   ]
  },
  {
   "cell_type": "markdown",
   "metadata": {},
   "source": [
    "- as i already calculateed top 15 cities with high no. of headlines \n",
    "- now we consider only top `7 cities` for **year-wise coverage**"
   ]
  },
  {
   "cell_type": "code",
   "execution_count": 29,
   "metadata": {},
   "outputs": [
    {
     "data": {
      "text/html": [
       "<div>\n",
       "<style scoped>\n",
       "    .dataframe tbody tr th:only-of-type {\n",
       "        vertical-align: middle;\n",
       "    }\n",
       "\n",
       "    .dataframe tbody tr th {\n",
       "        vertical-align: top;\n",
       "    }\n",
       "\n",
       "    .dataframe thead th {\n",
       "        text-align: right;\n",
       "    }\n",
       "</style>\n",
       "<table border=\"1\" class=\"dataframe\">\n",
       "  <thead>\n",
       "    <tr style=\"text-align: right;\">\n",
       "      <th></th>\n",
       "      <th>No._headline_text</th>\n",
       "    </tr>\n",
       "    <tr>\n",
       "      <th>city_name</th>\n",
       "      <th></th>\n",
       "    </tr>\n",
       "  </thead>\n",
       "  <tbody>\n",
       "    <tr>\n",
       "      <th>mumbai</th>\n",
       "      <td>132649</td>\n",
       "    </tr>\n",
       "    <tr>\n",
       "      <th>delhi</th>\n",
       "      <td>124658</td>\n",
       "    </tr>\n",
       "    <tr>\n",
       "      <th>chandigarh</th>\n",
       "      <td>107464</td>\n",
       "    </tr>\n",
       "    <tr>\n",
       "      <th>hyderabad</th>\n",
       "      <td>99014</td>\n",
       "    </tr>\n",
       "    <tr>\n",
       "      <th>bengaluru</th>\n",
       "      <td>91857</td>\n",
       "    </tr>\n",
       "    <tr>\n",
       "      <th>ahmedabad</th>\n",
       "      <td>85813</td>\n",
       "    </tr>\n",
       "    <tr>\n",
       "      <th>pune</th>\n",
       "      <td>84620</td>\n",
       "    </tr>\n",
       "  </tbody>\n",
       "</table>\n",
       "</div>"
      ],
      "text/plain": [
       "            No._headline_text\n",
       "city_name                    \n",
       "mumbai                 132649\n",
       "delhi                  124658\n",
       "chandigarh             107464\n",
       "hyderabad               99014\n",
       "bengaluru               91857\n",
       "ahmedabad               85813\n",
       "pune                    84620"
      ]
     },
     "execution_count": 29,
     "metadata": {},
     "output_type": "execute_result"
    }
   ],
   "source": [
    "top_15_headline_city.head(7)"
   ]
  },
  {
   "cell_type": "markdown",
   "metadata": {},
   "source": [
    "we limit the graph to the `top 7 cities` which have high no. of headline: **Mumbai, Delhi, Chandigarh, Hyderabad, Bengaluru ,pune and Ahmedabad** if we try plot **all the cities**, so plot is quite messi to understand that's why we take limited cities"
   ]
  },
  {
   "cell_type": "code",
   "execution_count": 30,
   "metadata": {},
   "outputs": [],
   "source": [
    "# creating new data_set for top 7 cities with year \n",
    "\n",
    "city_del = city_data_2[city_data_2.city_name == 'mumbai']\n",
    "city_mum = city_data_2[city_data_2.city_name == 'delhi']\n",
    "city_chan = city_data_2[city_data_2.city_name == 'chandigarh']\n",
    "city_hyd = city_data_2[city_data_2.city_name == 'hyderabad']\n",
    "city_bang = city_data_2[city_data_2.city_name == 'bengaluru']\n",
    "city_ahme = city_data_2[city_data_2.city_name == 'ahmedabad']\n",
    "city_pune = city_data_2[city_data_2.city_name == 'pune']"
   ]
  },
  {
   "cell_type": "markdown",
   "metadata": {},
   "source": [
    "- Finally we concate **all datasets** and create a final data which **contain top 7 cities year-wise coverage**"
   ]
  },
  {
   "cell_type": "code",
   "execution_count": 31,
   "metadata": {},
   "outputs": [],
   "source": [
    "famous_cities = [city_del, city_mum, city_chan, city_hyd, city_bang, city_ahme, city_pune]\n",
    "data_famous_cities = pd.concat(famous_cities)"
   ]
  },
  {
   "cell_type": "code",
   "execution_count": 32,
   "metadata": {},
   "outputs": [],
   "source": [
    "# reset index numbers\n",
    "data_famous_cities.reset_index(inplace=True)  "
   ]
  },
  {
   "cell_type": "code",
   "execution_count": 33,
   "metadata": {},
   "outputs": [
    {
     "name": "stdout",
     "output_type": "stream",
     "text": [
      "(726075, 4)\n"
     ]
    },
    {
     "data": {
      "text/html": [
       "<div>\n",
       "<style scoped>\n",
       "    .dataframe tbody tr th:only-of-type {\n",
       "        vertical-align: middle;\n",
       "    }\n",
       "\n",
       "    .dataframe tbody tr th {\n",
       "        vertical-align: top;\n",
       "    }\n",
       "\n",
       "    .dataframe thead th {\n",
       "        text-align: right;\n",
       "    }\n",
       "</style>\n",
       "<table border=\"1\" class=\"dataframe\">\n",
       "  <thead>\n",
       "    <tr style=\"text-align: right;\">\n",
       "      <th></th>\n",
       "      <th>index</th>\n",
       "      <th>city_name</th>\n",
       "      <th>Year</th>\n",
       "      <th>No_headline_text</th>\n",
       "    </tr>\n",
       "  </thead>\n",
       "  <tbody>\n",
       "    <tr>\n",
       "      <th>0</th>\n",
       "      <td>37</td>\n",
       "      <td>mumbai</td>\n",
       "      <td>2001</td>\n",
       "      <td>1</td>\n",
       "    </tr>\n",
       "    <tr>\n",
       "      <th>1</th>\n",
       "      <td>41</td>\n",
       "      <td>mumbai</td>\n",
       "      <td>2001</td>\n",
       "      <td>1</td>\n",
       "    </tr>\n",
       "    <tr>\n",
       "      <th>2</th>\n",
       "      <td>51</td>\n",
       "      <td>mumbai</td>\n",
       "      <td>2001</td>\n",
       "      <td>1</td>\n",
       "    </tr>\n",
       "    <tr>\n",
       "      <th>3</th>\n",
       "      <td>55</td>\n",
       "      <td>mumbai</td>\n",
       "      <td>2001</td>\n",
       "      <td>1</td>\n",
       "    </tr>\n",
       "    <tr>\n",
       "      <th>4</th>\n",
       "      <td>57</td>\n",
       "      <td>mumbai</td>\n",
       "      <td>2001</td>\n",
       "      <td>1</td>\n",
       "    </tr>\n",
       "  </tbody>\n",
       "</table>\n",
       "</div>"
      ],
      "text/plain": [
       "   index city_name  Year  No_headline_text\n",
       "0     37    mumbai  2001                 1\n",
       "1     41    mumbai  2001                 1\n",
       "2     51    mumbai  2001                 1\n",
       "3     55    mumbai  2001                 1\n",
       "4     57    mumbai  2001                 1"
      ]
     },
     "execution_count": 33,
     "metadata": {},
     "output_type": "execute_result"
    }
   ],
   "source": [
    "# top 7 cities\n",
    "print(data_famous_cities.shape)\n",
    "data_famous_cities.head()"
   ]
  },
  {
   "cell_type": "code",
   "execution_count": 34,
   "metadata": {},
   "outputs": [],
   "source": [
    "# year-wise no. of headlines text\n",
    "city_year_count = pd.Series(city_data_2.groupby(['Year'])['No_headline_text'].count())\n",
    "\n",
    "# year-wise data which shows which city have how many no. of headline text\n",
    "city_count = data_famous_cities.groupby(['Year', 'city_name']).sum()['No_headline_text'].unstack()"
   ]
  },
  {
   "cell_type": "markdown",
   "metadata": {},
   "source": [
    "- **year-wise** data which shows **which city have how many no. of headline text**"
   ]
  },
  {
   "cell_type": "code",
   "execution_count": 36,
   "metadata": {},
   "outputs": [
    {
     "data": {
      "text/html": [
       "<div>\n",
       "<style scoped>\n",
       "    .dataframe tbody tr th:only-of-type {\n",
       "        vertical-align: middle;\n",
       "    }\n",
       "\n",
       "    .dataframe tbody tr th {\n",
       "        vertical-align: top;\n",
       "    }\n",
       "\n",
       "    .dataframe thead th {\n",
       "        text-align: right;\n",
       "    }\n",
       "</style>\n",
       "<table border=\"1\" class=\"dataframe\">\n",
       "  <thead>\n",
       "    <tr style=\"text-align: right;\">\n",
       "      <th>city_name</th>\n",
       "      <th>ahmedabad</th>\n",
       "      <th>bengaluru</th>\n",
       "      <th>chandigarh</th>\n",
       "      <th>delhi</th>\n",
       "      <th>hyderabad</th>\n",
       "      <th>mumbai</th>\n",
       "      <th>pune</th>\n",
       "    </tr>\n",
       "    <tr>\n",
       "      <th>Year</th>\n",
       "      <th></th>\n",
       "      <th></th>\n",
       "      <th></th>\n",
       "      <th></th>\n",
       "      <th></th>\n",
       "      <th></th>\n",
       "      <th></th>\n",
       "    </tr>\n",
       "  </thead>\n",
       "  <tbody>\n",
       "    <tr>\n",
       "      <th>2001</th>\n",
       "      <td>3131</td>\n",
       "      <td>5739</td>\n",
       "      <td>2283</td>\n",
       "      <td>2462</td>\n",
       "      <td>4493</td>\n",
       "      <td>2465</td>\n",
       "      <td>1534</td>\n",
       "    </tr>\n",
       "    <tr>\n",
       "      <th>2002</th>\n",
       "      <td>5251</td>\n",
       "      <td>7170</td>\n",
       "      <td>5047</td>\n",
       "      <td>4845</td>\n",
       "      <td>6547</td>\n",
       "      <td>4366</td>\n",
       "      <td>3357</td>\n",
       "    </tr>\n",
       "    <tr>\n",
       "      <th>2003</th>\n",
       "      <td>4446</td>\n",
       "      <td>4382</td>\n",
       "      <td>5476</td>\n",
       "      <td>4850</td>\n",
       "      <td>5475</td>\n",
       "      <td>3762</td>\n",
       "      <td>3790</td>\n",
       "    </tr>\n",
       "    <tr>\n",
       "      <th>2004</th>\n",
       "      <td>2657</td>\n",
       "      <td>2759</td>\n",
       "      <td>3714</td>\n",
       "      <td>5926</td>\n",
       "      <td>2523</td>\n",
       "      <td>2822</td>\n",
       "      <td>2904</td>\n",
       "    </tr>\n",
       "    <tr>\n",
       "      <th>2005</th>\n",
       "      <td>1736</td>\n",
       "      <td>1714</td>\n",
       "      <td>1106</td>\n",
       "      <td>2880</td>\n",
       "      <td>1539</td>\n",
       "      <td>1556</td>\n",
       "      <td>974</td>\n",
       "    </tr>\n",
       "  </tbody>\n",
       "</table>\n",
       "</div>"
      ],
      "text/plain": [
       "city_name  ahmedabad  bengaluru  chandigarh  delhi  hyderabad  mumbai  pune\n",
       "Year                                                                       \n",
       "2001            3131       5739        2283   2462       4493    2465  1534\n",
       "2002            5251       7170        5047   4845       6547    4366  3357\n",
       "2003            4446       4382        5476   4850       5475    3762  3790\n",
       "2004            2657       2759        3714   5926       2523    2822  2904\n",
       "2005            1736       1714        1106   2880       1539    1556   974"
      ]
     },
     "execution_count": 36,
     "metadata": {},
     "output_type": "execute_result"
    }
   ],
   "source": [
    "city_count.head()"
   ]
  },
  {
   "cell_type": "markdown",
   "metadata": {},
   "source": [
    "- year-wise no. of headlines text"
   ]
  },
  {
   "cell_type": "code",
   "execution_count": 35,
   "metadata": {},
   "outputs": [
    {
     "data": {
      "text/plain": [
       "Year\n",
       "2001    31365\n",
       "2002    53721\n",
       "2003    48409\n",
       "2004    34030\n",
       "2005    15788\n",
       "Name: No_headline_text, dtype: int64"
      ]
     },
     "execution_count": 35,
     "metadata": {},
     "output_type": "execute_result"
    }
   ],
   "source": [
    "city_year_count.head()"
   ]
  },
  {
   "cell_type": "markdown",
   "metadata": {},
   "source": [
    "- let's visulize **Number of articles(headline text) per year and per city**"
   ]
  },
  {
   "cell_type": "code",
   "execution_count": 37,
   "metadata": {},
   "outputs": [
    {
     "data": {
      "image/png": "[encoded data removed]",
      "text/plain": [
       "<Figure size 1440x720 with 2 Axes>"
      ]
     },
     "metadata": {
      "needs_background": "light"
     },
     "output_type": "display_data"
    },
    {
     "data": {
      "text/plain": [
       "<Figure size 1440x720 with 0 Axes>"
      ]
     },
     "metadata": {},
     "output_type": "display_data"
    }
   ],
   "source": [
    "fig=plt.figure()\n",
    "\n",
    "a = fig.add_subplot(111,label=\"1\")\n",
    "b = fig.add_subplot(111,label=\"2\", frame_on = False)\n",
    "\n",
    "plt.figure(figsize=(20,10))\n",
    "city_year_count.plot(kind='bar',figsize=(20,10), ax=a,title=\"Number of articles per year and per city\")\n",
    "a.set_ylabel('Number of Articles (Per city)')\n",
    "a.set_xlabel(\"\")\n",
    "\n",
    "city_count.plot(ax=b)\n",
    "b.set_xticks([])\n",
    "b.set_ylabel('Number of Articles (Per city)', size =16)\n",
    "b.yaxis.tick_right()\n",
    "b.set_xlabel('Year') \n",
    "\n",
    "a.get_yaxis().set_label_coords(-.05,0.5)\n",
    "b.get_yaxis().set_label_coords(1.05,0.5)\n",
    "b.get_xaxis().set_label_coords(0.5, -0.07)\n",
    "\n",
    "plt.show()"
   ]
  },
  {
   "cell_type": "markdown",
   "metadata": {},
   "source": [
    "The graph for the cities was **not uniform** and hence we **overlap on it a graph for the number of city-based articles by year**. This way, we can disregard the apparent non-uniformity in city-based reporting over the years."
   ]
  },
  {
   "cell_type": "markdown",
   "metadata": {},
   "source": [
    "### **Let's see which Topic that have high no. of Coverage**"
   ]
  },
  {
   "cell_type": "code",
   "execution_count": 38,
   "metadata": {},
   "outputs": [
    {
     "data": {
      "text/html": [
       "<div>\n",
       "<style scoped>\n",
       "    .dataframe tbody tr th:only-of-type {\n",
       "        vertical-align: middle;\n",
       "    }\n",
       "\n",
       "    .dataframe tbody tr th {\n",
       "        vertical-align: top;\n",
       "    }\n",
       "\n",
       "    .dataframe thead th {\n",
       "        text-align: right;\n",
       "    }\n",
       "</style>\n",
       "<table border=\"1\" class=\"dataframe\">\n",
       "  <thead>\n",
       "    <tr style=\"text-align: right;\">\n",
       "      <th></th>\n",
       "      <th>publish_date</th>\n",
       "      <th>headline_category</th>\n",
       "      <th>headline_text</th>\n",
       "    </tr>\n",
       "  </thead>\n",
       "  <tbody>\n",
       "    <tr>\n",
       "      <th>0</th>\n",
       "      <td>20010101</td>\n",
       "      <td>sports.wwe</td>\n",
       "      <td>win over cena satisfying but defeating underta...</td>\n",
       "    </tr>\n",
       "    <tr>\n",
       "      <th>1</th>\n",
       "      <td>20010102</td>\n",
       "      <td>unknown</td>\n",
       "      <td>Status quo will not be disturbed at Ayodhya; s...</td>\n",
       "    </tr>\n",
       "    <tr>\n",
       "      <th>2</th>\n",
       "      <td>20010102</td>\n",
       "      <td>unknown</td>\n",
       "      <td>Fissures in Hurriyat over Pak visit</td>\n",
       "    </tr>\n",
       "    <tr>\n",
       "      <th>3</th>\n",
       "      <td>20010102</td>\n",
       "      <td>unknown</td>\n",
       "      <td>America's unwanted heading for India?</td>\n",
       "    </tr>\n",
       "    <tr>\n",
       "      <th>4</th>\n",
       "      <td>20010102</td>\n",
       "      <td>unknown</td>\n",
       "      <td>For bigwigs; it is destination Goa</td>\n",
       "    </tr>\n",
       "  </tbody>\n",
       "</table>\n",
       "</div>"
      ],
      "text/plain": [
       "   publish_date headline_category  \\\n",
       "0      20010101        sports.wwe   \n",
       "1      20010102           unknown   \n",
       "2      20010102           unknown   \n",
       "3      20010102           unknown   \n",
       "4      20010102           unknown   \n",
       "\n",
       "                                       headline_text  \n",
       "0  win over cena satisfying but defeating underta...  \n",
       "1  Status quo will not be disturbed at Ayodhya; s...  \n",
       "2                Fissures in Hurriyat over Pak visit  \n",
       "3              America's unwanted heading for India?  \n",
       "4                 For bigwigs; it is destination Goa  "
      ]
     },
     "execution_count": 38,
     "metadata": {},
     "output_type": "execute_result"
    }
   ],
   "source": [
    "data.head()"
   ]
  },
  {
   "cell_type": "code",
   "execution_count": 39,
   "metadata": {},
   "outputs": [],
   "source": [
    "# for safety always take copy of original data\n",
    "new_data = data.copy()"
   ]
  },
  {
   "cell_type": "markdown",
   "metadata": {},
   "source": [
    "- creating a new column `category` that contains **headline categories**"
   ]
  },
  {
   "cell_type": "code",
   "execution_count": 40,
   "metadata": {},
   "outputs": [],
   "source": [
    "new_data['category']=new_data['headline_category'].str.split('.').map(lambda x : x[0])"
   ]
  },
  {
   "cell_type": "code",
   "execution_count": 41,
   "metadata": {},
   "outputs": [
    {
     "data": {
      "text/html": [
       "<div>\n",
       "<style scoped>\n",
       "    .dataframe tbody tr th:only-of-type {\n",
       "        vertical-align: middle;\n",
       "    }\n",
       "\n",
       "    .dataframe tbody tr th {\n",
       "        vertical-align: top;\n",
       "    }\n",
       "\n",
       "    .dataframe thead th {\n",
       "        text-align: right;\n",
       "    }\n",
       "</style>\n",
       "<table border=\"1\" class=\"dataframe\">\n",
       "  <thead>\n",
       "    <tr style=\"text-align: right;\">\n",
       "      <th></th>\n",
       "      <th>publish_date</th>\n",
       "      <th>headline_category</th>\n",
       "      <th>headline_text</th>\n",
       "      <th>category</th>\n",
       "    </tr>\n",
       "  </thead>\n",
       "  <tbody>\n",
       "    <tr>\n",
       "      <th>0</th>\n",
       "      <td>20010101</td>\n",
       "      <td>sports.wwe</td>\n",
       "      <td>win over cena satisfying but defeating underta...</td>\n",
       "      <td>sports</td>\n",
       "    </tr>\n",
       "    <tr>\n",
       "      <th>1</th>\n",
       "      <td>20010102</td>\n",
       "      <td>unknown</td>\n",
       "      <td>Status quo will not be disturbed at Ayodhya; s...</td>\n",
       "      <td>unknown</td>\n",
       "    </tr>\n",
       "    <tr>\n",
       "      <th>2</th>\n",
       "      <td>20010102</td>\n",
       "      <td>unknown</td>\n",
       "      <td>Fissures in Hurriyat over Pak visit</td>\n",
       "      <td>unknown</td>\n",
       "    </tr>\n",
       "    <tr>\n",
       "      <th>3</th>\n",
       "      <td>20010102</td>\n",
       "      <td>unknown</td>\n",
       "      <td>America's unwanted heading for India?</td>\n",
       "      <td>unknown</td>\n",
       "    </tr>\n",
       "    <tr>\n",
       "      <th>4</th>\n",
       "      <td>20010102</td>\n",
       "      <td>unknown</td>\n",
       "      <td>For bigwigs; it is destination Goa</td>\n",
       "      <td>unknown</td>\n",
       "    </tr>\n",
       "  </tbody>\n",
       "</table>\n",
       "</div>"
      ],
      "text/plain": [
       "   publish_date headline_category  \\\n",
       "0      20010101        sports.wwe   \n",
       "1      20010102           unknown   \n",
       "2      20010102           unknown   \n",
       "3      20010102           unknown   \n",
       "4      20010102           unknown   \n",
       "\n",
       "                                       headline_text category  \n",
       "0  win over cena satisfying but defeating underta...   sports  \n",
       "1  Status quo will not be disturbed at Ayodhya; s...  unknown  \n",
       "2                Fissures in Hurriyat over Pak visit  unknown  \n",
       "3              America's unwanted heading for India?  unknown  \n",
       "4                 For bigwigs; it is destination Goa  unknown  "
      ]
     },
     "execution_count": 41,
     "metadata": {},
     "output_type": "execute_result"
    }
   ],
   "source": [
    "new_data.head()"
   ]
  },
  {
   "cell_type": "markdown",
   "metadata": {},
   "source": [
    "- groupby categories and let's see **which category topic have high no. of headline**"
   ]
  },
  {
   "cell_type": "code",
   "execution_count": 42,
   "metadata": {},
   "outputs": [],
   "source": [
    "top_categories = new_data.groupby(['category']).agg({'headline_text':'count'}).sort_values(by='headline_text',ascending = False)"
   ]
  },
  {
   "cell_type": "markdown",
   "metadata": {},
   "source": [
    "- dropping some un-wanted category like **`unknown, tv, top-stories, city, citizen, edit-page etc`**"
   ]
  },
  {
   "cell_type": "code",
   "execution_count": 44,
   "metadata": {},
   "outputs": [
    {
     "data": {
      "text/html": [
       "<div>\n",
       "<style scoped>\n",
       "    .dataframe tbody tr th:only-of-type {\n",
       "        vertical-align: middle;\n",
       "    }\n",
       "\n",
       "    .dataframe tbody tr th {\n",
       "        vertical-align: top;\n",
       "    }\n",
       "\n",
       "    .dataframe thead th {\n",
       "        text-align: right;\n",
       "    }\n",
       "</style>\n",
       "<table border=\"1\" class=\"dataframe\">\n",
       "  <thead>\n",
       "    <tr style=\"text-align: right;\">\n",
       "      <th></th>\n",
       "      <th>headline_text</th>\n",
       "    </tr>\n",
       "    <tr>\n",
       "      <th>category</th>\n",
       "      <th></th>\n",
       "    </tr>\n",
       "  </thead>\n",
       "  <tbody>\n",
       "    <tr>\n",
       "      <th>india</th>\n",
       "      <td>285619</td>\n",
       "    </tr>\n",
       "    <tr>\n",
       "      <th>entertainment</th>\n",
       "      <td>224877</td>\n",
       "    </tr>\n",
       "    <tr>\n",
       "      <th>business</th>\n",
       "      <td>153876</td>\n",
       "    </tr>\n",
       "    <tr>\n",
       "      <th>sports</th>\n",
       "      <td>129494</td>\n",
       "    </tr>\n",
       "    <tr>\n",
       "      <th>home</th>\n",
       "      <td>77208</td>\n",
       "    </tr>\n",
       "    <tr>\n",
       "      <th>life-style</th>\n",
       "      <td>43370</td>\n",
       "    </tr>\n",
       "    <tr>\n",
       "      <th>tech</th>\n",
       "      <td>37220</td>\n",
       "    </tr>\n",
       "    <tr>\n",
       "      <th>news</th>\n",
       "      <td>13987</td>\n",
       "    </tr>\n",
       "    <tr>\n",
       "      <th>elections</th>\n",
       "      <td>9003</td>\n",
       "    </tr>\n",
       "    <tr>\n",
       "      <th>delhi-times</th>\n",
       "      <td>7356</td>\n",
       "    </tr>\n",
       "  </tbody>\n",
       "</table>\n",
       "</div>"
      ],
      "text/plain": [
       "               headline_text\n",
       "category                    \n",
       "india                 285619\n",
       "entertainment         224877\n",
       "business              153876\n",
       "sports                129494\n",
       "home                   77208\n",
       "life-style             43370\n",
       "tech                   37220\n",
       "news                   13987\n",
       "elections               9003\n",
       "delhi-times             7356"
      ]
     },
     "execution_count": 44,
     "metadata": {},
     "output_type": "execute_result"
    }
   ],
   "source": [
    "top_10_cat = top_categories.drop(['unknown', 'tv', 'top-stories', 'city', 'citizen', 'edit-page','top-headlines','world']).head(10)\n",
    "top_10_cat"
   ]
  },
  {
   "cell_type": "code",
   "execution_count": 45,
   "metadata": {},
   "outputs": [],
   "source": [
    "# reset index\n",
    "top_10_cat.reset_index(inplace=True)"
   ]
  },
  {
   "cell_type": "markdown",
   "metadata": {},
   "source": [
    "- `top_10_cat` let's see the **top 10 categories with No. of headlines** ( india, entertainment, business, sports, life-style, tech, etc)"
   ]
  },
  {
   "cell_type": "code",
   "execution_count": 46,
   "metadata": {},
   "outputs": [
    {
     "data": {
      "image/png": "[encoded data removed]",
      "text/plain": [
       "<Figure size 1440x864 with 1 Axes>"
      ]
     },
     "metadata": {
      "needs_background": "light"
     },
     "output_type": "display_data"
    }
   ],
   "source": [
    "# visualizing top 10 categories \n",
    "\n",
    "plt.figure(figsize=(20,12))\n",
    "plt.bar(top_10_cat.category, height=top_10_cat.headline_text,color = 'black')\n",
    "plt.xlabel('Category')\n",
    "plt.ylabel('Number of articles')\n",
    "plt.title('Top 10 Categories')\n",
    "plt.show()"
   ]
  },
  {
   "cell_type": "markdown",
   "metadata": {},
   "source": [
    "**India is the most published** since the publication is based in India. Interestingly, **Entertainment is the second-most covered topic** by TOI. In fact, it's eye-opening how Bollywood is given more coverage than every other topic except for **Indian Business**.\n"
   ]
  },
  {
   "cell_type": "markdown",
   "metadata": {},
   "source": [
    "### **Sentiment Analysis**"
   ]
  },
  {
   "cell_type": "markdown",
   "metadata": {},
   "source": [
    "#### TextBlob\n",
    "- TextBlob returns **polarity and subjectivity** of a sentence. Polarity lies between [-1,1], \n",
    "- Returns a value based on the polarity of the given text using TextBlob\n",
    "- TextBlob library to perform sentiment analysis and analyse the polarity of the passed headline. **It returns '1' if the sentiment is `positive`, '-1' if the sentiment is `negative`, and '0' if the sentiment is `neutral`.**\n",
    "- Sentiment Analysis can help us decipher the mood and emotions of general public and gather insightful information regarding the context. \n",
    "- Sentiment Analysis is a process of analyzing data and classifying it based on the need of the research.\n",
    "- TextBlob is a python library for **Natural Language Processing (NLP)**.\n",
    "- TextBlob actively used Natural Language ToolKit (NLTK) to achieve its tasks. NLTK is a library which gives an easy access to a lot of lexical resources and allows users to work with categorization, classification and many other tasks. \n",
    "- TextBlob is a simple library which supports complex analysis and operations on textual data."
   ]
  },
  {
   "cell_type": "markdown",
   "metadata": {},
   "source": [
    "- `For example 1`: We calculated polarity and subjectivity for **“I do not like this example at all, it is too boring”**. For this particular example, **polarity = -1**.\n",
    "- `For example 2` : for the sentence **“This was a helpful example but I would prefer another one”**. It returns 0.0 for both subjectivity and polarity which is not the finest answer we’d expect. disagreement statement or **neutral**\n",
    "- `For example 3` : for the sentence **\"I do like this example\"** It returns +1 which is **positive** value"
   ]
  },
  {
   "cell_type": "code",
   "execution_count": 47,
   "metadata": {},
   "outputs": [],
   "source": [
    "def getAnalysis_polarity(headline):\n",
    "    result = TextBlob(headline)\n",
    "    \n",
    "    if result.sentiment.polarity < 0:\n",
    "        return 'negative'\n",
    "    elif result.sentiment.polarity == 0:\n",
    "        return 'neutral'\n",
    "    else:\n",
    "        return 'positive'"
   ]
  },
  {
   "cell_type": "markdown",
   "metadata": {},
   "source": [
    "- creating a columns which shows which headline have `nigative`, `positive` or `neutral` headline"
   ]
  },
  {
   "cell_type": "code",
   "execution_count": 48,
   "metadata": {},
   "outputs": [],
   "source": [
    "data['Result'] = np.array([getAnalysis_polarity(headline) for headline in data['headline_text']])"
   ]
  },
  {
   "cell_type": "code",
   "execution_count": 52,
   "metadata": {},
   "outputs": [
    {
     "data": {
      "text/html": [
       "<div>\n",
       "<style scoped>\n",
       "    .dataframe tbody tr th:only-of-type {\n",
       "        vertical-align: middle;\n",
       "    }\n",
       "\n",
       "    .dataframe tbody tr th {\n",
       "        vertical-align: top;\n",
       "    }\n",
       "\n",
       "    .dataframe thead th {\n",
       "        text-align: right;\n",
       "    }\n",
       "</style>\n",
       "<table border=\"1\" class=\"dataframe\">\n",
       "  <thead>\n",
       "    <tr style=\"text-align: right;\">\n",
       "      <th></th>\n",
       "      <th>publish_date</th>\n",
       "      <th>headline_category</th>\n",
       "      <th>headline_text</th>\n",
       "      <th>Result</th>\n",
       "    </tr>\n",
       "  </thead>\n",
       "  <tbody>\n",
       "    <tr>\n",
       "      <th>0</th>\n",
       "      <td>20010101</td>\n",
       "      <td>sports.wwe</td>\n",
       "      <td>win over cena satisfying but defeating underta...</td>\n",
       "      <td>positive</td>\n",
       "    </tr>\n",
       "    <tr>\n",
       "      <th>1</th>\n",
       "      <td>20010102</td>\n",
       "      <td>unknown</td>\n",
       "      <td>Status quo will not be disturbed at Ayodhya; s...</td>\n",
       "      <td>neutral</td>\n",
       "    </tr>\n",
       "    <tr>\n",
       "      <th>2</th>\n",
       "      <td>20010102</td>\n",
       "      <td>unknown</td>\n",
       "      <td>Fissures in Hurriyat over Pak visit</td>\n",
       "      <td>neutral</td>\n",
       "    </tr>\n",
       "    <tr>\n",
       "      <th>3</th>\n",
       "      <td>20010102</td>\n",
       "      <td>unknown</td>\n",
       "      <td>America's unwanted heading for India?</td>\n",
       "      <td>neutral</td>\n",
       "    </tr>\n",
       "    <tr>\n",
       "      <th>4</th>\n",
       "      <td>20010102</td>\n",
       "      <td>unknown</td>\n",
       "      <td>For bigwigs; it is destination Goa</td>\n",
       "      <td>neutral</td>\n",
       "    </tr>\n",
       "  </tbody>\n",
       "</table>\n",
       "</div>"
      ],
      "text/plain": [
       "   publish_date headline_category  \\\n",
       "0      20010101        sports.wwe   \n",
       "1      20010102           unknown   \n",
       "2      20010102           unknown   \n",
       "3      20010102           unknown   \n",
       "4      20010102           unknown   \n",
       "\n",
       "                                       headline_text    Result  \n",
       "0  win over cena satisfying but defeating underta...  positive  \n",
       "1  Status quo will not be disturbed at Ayodhya; s...   neutral  \n",
       "2                Fissures in Hurriyat over Pak visit   neutral  \n",
       "3              America's unwanted heading for India?   neutral  \n",
       "4                 For bigwigs; it is destination Goa   neutral  "
      ]
     },
     "execution_count": 52,
     "metadata": {},
     "output_type": "execute_result"
    }
   ],
   "source": [
    "data.head()"
   ]
  },
  {
   "cell_type": "code",
   "execution_count": 53,
   "metadata": {},
   "outputs": [],
   "source": [
    "final_result = data.groupby(['Result']).agg({'headline_text':'count'})"
   ]
  },
  {
   "cell_type": "markdown",
   "metadata": {},
   "source": [
    "- Let's see how many **negative headlines**, **positive headlines** and **neutral headlines** in dataset"
   ]
  },
  {
   "cell_type": "code",
   "execution_count": 54,
   "metadata": {},
   "outputs": [
    {
     "data": {
      "text/html": [
       "<div>\n",
       "<style scoped>\n",
       "    .dataframe tbody tr th:only-of-type {\n",
       "        vertical-align: middle;\n",
       "    }\n",
       "\n",
       "    .dataframe tbody tr th {\n",
       "        vertical-align: top;\n",
       "    }\n",
       "\n",
       "    .dataframe thead th {\n",
       "        text-align: right;\n",
       "    }\n",
       "</style>\n",
       "<table border=\"1\" class=\"dataframe\">\n",
       "  <thead>\n",
       "    <tr style=\"text-align: right;\">\n",
       "      <th></th>\n",
       "      <th>headline_text</th>\n",
       "    </tr>\n",
       "    <tr>\n",
       "      <th>Result</th>\n",
       "      <th></th>\n",
       "    </tr>\n",
       "  </thead>\n",
       "  <tbody>\n",
       "    <tr>\n",
       "      <th>negative</th>\n",
       "      <td>398194</td>\n",
       "    </tr>\n",
       "    <tr>\n",
       "      <th>neutral</th>\n",
       "      <td>2301599</td>\n",
       "    </tr>\n",
       "    <tr>\n",
       "      <th>positive</th>\n",
       "      <td>597379</td>\n",
       "    </tr>\n",
       "  </tbody>\n",
       "</table>\n",
       "</div>"
      ],
      "text/plain": [
       "          headline_text\n",
       "Result                 \n",
       "negative         398194\n",
       "neutral         2301599\n",
       "positive         597379"
      ]
     },
     "execution_count": 54,
     "metadata": {},
     "output_type": "execute_result"
    }
   ],
   "source": [
    "final_result"
   ]
  },
  {
   "cell_type": "markdown",
   "metadata": {},
   "source": [
    "### **Overall Sentiment Distribution**"
   ]
  },
  {
   "cell_type": "code",
   "execution_count": 56,
   "metadata": {},
   "outputs": [
    {
     "data": {
      "image/png": "[encoded data removed]",
      "text/plain": [
       "<Figure size 576x576 with 1 Axes>"
      ]
     },
     "metadata": {},
     "output_type": "display_data"
    }
   ],
   "source": [
    "plt.figure(figsize=(8,8))\n",
    "final_result['headline_text'].plot.pie(autopct='%1.1f%%')\n",
    "plt.show()"
   ]
  },
  {
   "cell_type": "code",
   "execution_count": 57,
   "metadata": {},
   "outputs": [],
   "source": [
    "negative = (final_result.loc['negative'] / len(data))*100\n",
    "neutral = (final_result.loc['neutral'] / len(data))*100\n",
    "positive = (final_result.loc['positive'] / len(data))*100"
   ]
  },
  {
   "cell_type": "code",
   "execution_count": 58,
   "metadata": {},
   "outputs": [
    {
     "name": "stdout",
     "output_type": "stream",
     "text": [
      "Positive Headlines:  headline_text    18.11792\n",
      "Name: positive, dtype: float64\n",
      "\n",
      "\n",
      "Negative Headlines:  headline_text    12.076834\n",
      "Name: negative, dtype: float64\n",
      "\n",
      "\n",
      "Unbiased Headlines:  headline_text    69.805245\n",
      "Name: neutral, dtype: float64\n"
     ]
    }
   ],
   "source": [
    "print('Positive Headlines: ' , positive )\n",
    "print('\\n\\nNegative Headlines: ' ,negative )\n",
    "print('\\n\\nUnbiased Headlines: ' , str(neutral))"
   ]
  },
  {
   "cell_type": "code",
   "execution_count": 59,
   "metadata": {},
   "outputs": [],
   "source": [
    "# ***************************************************************************************************************************************\n",
    "# ***************************************************************************************************************************************"
   ]
  }
 ],
 "metadata": {
  "kernelspec": {
   "display_name": "Python 3",
   "language": "python",
   "name": "python3"
  },
  "language_info": {
   "codemirror_mode": {
    "name": "ipython",
    "version": 3
   },
   "file_extension": ".py",
   "mimetype": "text/x-python",
   "name": "python",
   "nbconvert_exporter": "python",
   "pygments_lexer": "ipython3",
   "version": "3.8.1"
  }
 },
 "nbformat": 4,
 "nbformat_minor": 4
}
